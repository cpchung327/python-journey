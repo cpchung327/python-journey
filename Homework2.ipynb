{
 "cells": [
  {
   "cell_type": "code",
   "execution_count": 40,
   "id": "014292bf-7754-4fb0-984c-6837fae735b1",
   "metadata": {},
   "outputs": [
    {
     "name": "stdin",
     "output_type": "stream",
     "text": [
      "This is a rock, paper, scissors game, make your choice):  scissors\n"
     ]
    },
    {
     "name": "stdout",
     "output_type": "stream",
     "text": [
      "Player: scissors\n",
      "Computer: scissors\n",
      "Draw! Try again\n"
     ]
    },
    {
     "name": "stdin",
     "output_type": "stream",
     "text": [
      "This is a rock, paper, scissors game, make your choice):  scissors\n"
     ]
    },
    {
     "name": "stdout",
     "output_type": "stream",
     "text": [
      "Player: scissors\n",
      "Computer: scissors\n",
      "Draw! Try again\n"
     ]
    },
    {
     "name": "stdin",
     "output_type": "stream",
     "text": [
      "This is a rock, paper, scissors game, make your choice):  scissors\n"
     ]
    },
    {
     "name": "stdout",
     "output_type": "stream",
     "text": [
      "Player: scissors\n",
      "Computer: rock\n",
      "You lose!\n"
     ]
    },
    {
     "name": "stdin",
     "output_type": "stream",
     "text": [
      "This is a rock, paper, scissors game, make your choice):  scissors\n"
     ]
    },
    {
     "name": "stdout",
     "output_type": "stream",
     "text": [
      "Player: scissors\n",
      "Computer: paper\n",
      "You win!\n"
     ]
    },
    {
     "name": "stdin",
     "output_type": "stream",
     "text": [
      "This is a rock, paper, scissors game, make your choice):  rock\n"
     ]
    },
    {
     "name": "stdout",
     "output_type": "stream",
     "text": [
      "Player: rock\n",
      "Computer: rock\n",
      "Draw! Try again\n"
     ]
    },
    {
     "name": "stdin",
     "output_type": "stream",
     "text": [
      "This is a rock, paper, scissors game, make your choice):  paper\n"
     ]
    },
    {
     "name": "stdout",
     "output_type": "stream",
     "text": [
      "Player: paper\n",
      "Computer: rock\n",
      "You win!\n",
      "In 3 rounds, You won 2 times, you win\n"
     ]
    }
   ],
   "source": [
    "import random\n",
    "\n",
    "list = (\"rock\", \"paper\", \"scissors\")\n",
    "round = 0\n",
    "point = 0\n",
    "\n",
    "while True:\n",
    "\n",
    "    player = None\n",
    "    computer = random.choice(list)\n",
    "\n",
    "    while player not in list:\n",
    "        player = input(\"This is a rock, paper, scissors game, make your choice): \")\n",
    "        \n",
    "    print(f\"Player: {player}\")\n",
    "    print(f\"Computer: {computer}\")\n",
    "    \n",
    "    if player == computer:\n",
    "        print(\"Draw! Try again\")\n",
    "      \n",
    "    elif player == \"rock\" and computer == \"scissors\":\n",
    "        point +=1\n",
    "        round +=1\n",
    "        print(\"You win!\")\n",
    "      \n",
    "    elif player == \"paper\" and computer == \"rock\":\n",
    "        point +=1\n",
    "        round +=1\n",
    "        print(\"You win!\")\n",
    "      \n",
    "    elif player == \"scissors\" and computer == \"paper\":\n",
    "        point +=1\n",
    "        round +=1\n",
    "        print(\"You win!\")\n",
    "    else:\n",
    "        round +=1\n",
    "        print(\"You lose!\")\n",
    "        \n",
    "        \n",
    "    if round == 3 and point == 3:\n",
    "        print(\"In 3 rounds, You won 3 times, you win\")\n",
    "        break\n",
    "    elif round == 3 and point == 2:\n",
    "        print(\"In 3 rounds, You won 2 times, you win\")\n",
    "        break\n",
    "    elif round == 3 and point == 1:\n",
    "        print(\"In 3 rounds, You won 1 time only, you lose\")\n",
    "        break\n",
    "    elif round == 3 and point == 0 :\n",
    "        print(\"In 3 rounds, You didn't win, you lose\")\n",
    "        break\n",
    "\n"
   ]
  },
  {
   "cell_type": "code",
   "execution_count": null,
   "id": "ddfb822b-8e29-43c6-8260-b9f17d9a419b",
   "metadata": {},
   "outputs": [],
   "source": []
  },
  {
   "cell_type": "code",
   "execution_count": null,
   "id": "b2ab33cd-3058-4aed-a78f-67f34354e853",
   "metadata": {},
   "outputs": [],
   "source": []
  }
 ],
 "metadata": {
  "kernelspec": {
   "display_name": "Python 3 (ipykernel)",
   "language": "python",
   "name": "python3"
  },
  "language_info": {
   "codemirror_mode": {
    "name": "ipython",
    "version": 3
   },
   "file_extension": ".py",
   "mimetype": "text/x-python",
   "name": "python",
   "nbconvert_exporter": "python",
   "pygments_lexer": "ipython3",
   "version": "3.10.9"
  }
 },
 "nbformat": 4,
 "nbformat_minor": 5
}
